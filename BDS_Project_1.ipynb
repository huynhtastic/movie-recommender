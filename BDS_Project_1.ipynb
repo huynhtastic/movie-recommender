{
 "cells": [
  {
   "cell_type": "markdown",
   "metadata": {},
   "source": [
    "# Project 1: Movie Recommendation\n",
    "\n",
    "This system recommends movies based on a given user, their average rating, and the id of the movie they want to base our recommendations off of.\n",
    "\n",
    "If a user gave a movie with genres (Action, Adventure) and an average rating of 3.0, we would only recommend movies that were Action, Adventure, or a mix of both with an average rating of 3.0 and above. "
   ]
  },
  {
   "cell_type": "markdown",
   "metadata": {},
   "source": [
    "We just import some modules here and initialize a SparkContext."
   ]
  },
  {
   "cell_type": "code",
   "execution_count": 2,
   "metadata": {},
   "outputs": [],
   "source": [
    "import os\n",
    "\n",
    "from pyspark import SparkConf, SparkContext\n",
    "\n",
    "conf = SparkConf().setMaster('local[*]').setAppName('bds_project1')\n",
    "sc = SparkContext.getOrCreate(conf=conf)"
   ]
  },
  {
   "cell_type": "markdown",
   "metadata": {},
   "source": [
    "Initializing variables for the user, the id of the movie they rated, and the rating they gave that movie."
   ]
  },
  {
   "cell_type": "code",
   "execution_count": 3,
   "metadata": {},
   "outputs": [],
   "source": [
    "user_id = 1\n",
    "mid = 31\n",
    "avg_rating = 4"
   ]
  },
  {
   "cell_type": "markdown",
   "metadata": {},
   "source": [
    "We import the movies CSV to grab data about the movie, mainly its ID and genre.\n",
    "\n",
    "We also remove the header of the CSV file using the filter line by allowing anything that isn't the header line.\n",
    "\n",
    "The resulting movies_csv is then put into this structure: (movieid, (name, set(genres))\n",
    "\n",
    "The reason why we use a set for genres is to be able to use set.intersection() to see if there are any overlapping genres with the movie that the user rated. We use that overlap to decide whether to recommend this movie."
   ]
  },
  {
   "cell_type": "code",
   "execution_count": 4,
   "metadata": {},
   "outputs": [],
   "source": [
    "mcsv_path = os.path.join(os.getcwd(), 'datasets', 'movies.csv')\n",
    "movies_csv = sc.textFile(mcsv_path)\n",
    "movies_header = movies_csv.first()\n",
    "movies_csv = movies_csv.filter(lambda line: line != movies_header)\n",
    "movies_csv = movies_csv.map(lambda line: line.split(',')).map(\n",
    "    lambda x: (int(x[0]), (x[1], set(x[2].split('|')))))"
   ]
  },
  {
   "cell_type": "markdown",
   "metadata": {},
   "source": [
    "We import the ratings CSV to grab ratings of each movie by user.\n",
    "\n",
    "We remove the header of the CSV file like last time then map the ratings to this structure:\n",
    "    (movieid, (rating, num_ratings_added))\n",
    "    \n",
    "red_ratings then sums each rating and the number of ratings added.\n",
    "\n",
    "Then averaged_ratings shows the average ratings of each movie by dividing each rating by the number of ratings to get:\n",
    "    (movieid, average_rating)\n",
    "   \n",
    "Lastly, good_movies filters out all of the movies that don't make the cutoff."
   ]
  },
  {
   "cell_type": "code",
   "execution_count": 5,
   "metadata": {},
   "outputs": [],
   "source": [
    "rcsv_path = os.path.join(os.getcwd(), 'datasets', 'ratings.csv')\n",
    "ratings_csv = sc.textFile(rcsv_path)\n",
    "ratings_header = ratings_csv.first()\n",
    "ratings_csv = ratings_csv.filter(lambda line: line != ratings_header)\n",
    "restruct_ratings = ratings_csv.map(lambda line: line.split(',')).map(\n",
    "    lambda x: (int(x[1]), (float(x[2]), 1)))\n",
    "red_ratings = restruct_ratings.reduceByKey(\n",
    "    lambda x, y: (x[0] + y[0], x[1] + y[1]))\n",
    "averaged_ratings = red_ratings.mapValues(lambda x: round(x[0]/x[1], 1))\n",
    "good_movies = averaged_ratings.filter(lambda rating: rating[1] >= avg_rating)"
   ]
  },
  {
   "cell_type": "markdown",
   "metadata": {},
   "source": [
    "We grab the rated movie's genres in the movies_csv."
   ]
  },
  {
   "cell_type": "code",
   "execution_count": 6,
   "metadata": {},
   "outputs": [],
   "source": [
    "src_movie = movies_csv.filter(lambda movie: movie[0] == mid).first()"
   ]
  },
  {
   "cell_type": "markdown",
   "metadata": {},
   "source": [
    "We define rec_similar to filter out only movies that are similar to the given movie. We say a movie is similar if it shares one or more genres."
   ]
  },
  {
   "cell_type": "code",
   "execution_count": 10,
   "metadata": {},
   "outputs": [],
   "source": [
    "def rec_similar(mid, mcsv):\n",
    "    \"\"\"Recommend something similar to this movie using genres\n",
    "\n",
    "    Args:\n",
    "        mid (String): movie_id to use as the source for recommendations\n",
    "        mcsv (PythonRDD): movies_csv file to source genres for the given mid\n",
    "    Returns:\n",
    "        PythonRDD: reference to dependency graph to filter RDD to just\n",
    "            recommended movies\n",
    "    \"\"\"\n",
    "    return mcsv.filter(\n",
    "        lambda movie: movie[1][1].intersection(src_movie[1][1])).map(\n",
    "            lambda x: (x[0], x[1][0]))"
   ]
  },
  {
   "cell_type": "markdown",
   "metadata": {},
   "source": [
    "We run rec_similar to get movies we want to recommend."
   ]
  },
  {
   "cell_type": "code",
   "execution_count": 11,
   "metadata": {},
   "outputs": [],
   "source": [
    "res = rec_similar(mid, movies_csv)"
   ]
  },
  {
   "cell_type": "markdown",
   "metadata": {},
   "source": [
    "We want to merge our list of movies with the same genres with the list of movies above their rating cutoff, but we also want to show the average rating of each movie so we need to merge our movies RDD with the ratings RDD.\n",
    "\n",
    "Afterwards, we take a random sample of 5 movies to give to the user.\n",
    "\n",
    "Lastly, we don't want to show the movie ids so we return a list of the second item in each tuple which contains a tuple of the movie name and the average rating."
   ]
  },
  {
   "cell_type": "code",
   "execution_count": 12,
   "metadata": {},
   "outputs": [
    {
     "name": "stdout",
     "output_type": "stream",
     "text": [
      "[('Drunken Angel (Yoidore tenshi) (1948)', 4.5), ('Limbo (1999)', 4.4), ('Love Is the Devil (1998)', 4.2), (\"Sharky's Machine (1981)\", 4.0), (\"Satan's Brew (Satansbraten) (1976)\", 4.5)]\n"
     ]
    }
   ],
   "source": [
    "recs = res.join(good_movies).takeSample(False, 5)\n",
    "print([movie[1] for movie in recs])"
   ]
  }
 ],
 "metadata": {
  "kernelspec": {
   "display_name": "Python 3",
   "language": "python",
   "name": "python3"
  },
  "language_info": {
   "codemirror_mode": {
    "name": "ipython",
    "version": 3
   },
   "file_extension": ".py",
   "mimetype": "text/x-python",
   "name": "python",
   "nbconvert_exporter": "python",
   "pygments_lexer": "ipython3",
   "version": "3.6.5"
  }
 },
 "nbformat": 4,
 "nbformat_minor": 2
}
